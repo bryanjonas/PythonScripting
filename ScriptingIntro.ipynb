{
 "cells": [
  {
   "cell_type": "markdown",
   "metadata": {},
   "source": [
    "# Moving from Notebook to Script"
   ]
  },
  {
   "cell_type": "markdown",
   "metadata": {},
   "source": [
    "- Why worry about scripting... or when to get away from notebooks?  \n",
    "   - Linting  \n",
    "   - Non-linear workflow  \n",
    "   - Long, asynchronous tasks  "
   ]
  },
  {
   "cell_type": "markdown",
   "metadata": {},
   "source": [
    "- Things to consider in your scripts  \n",
    "  - \"main\" function  \n",
    "  - Variable scope  \n",
    "  - Command line arguments  "
   ]
  },
  {
   "cell_type": "markdown",
   "metadata": {},
   "source": [
    "## Python Functions"
   ]
  },
  {
   "cell_type": "code",
   "execution_count": 10,
   "metadata": {},
   "outputs": [
    {
     "name": "stdout",
     "output_type": "stream",
     "text": [
      "Function Test\n"
     ]
    }
   ],
   "source": [
    "def foo(bar):\n",
    "    print(bar)\n",
    "    return\n",
    "\n",
    "foo(\"Function Test\")"
   ]
  },
  {
   "cell_type": "code",
   "execution_count": 14,
   "metadata": {},
   "outputs": [
    {
     "name": "stdout",
     "output_type": "stream",
     "text": [
      "10\n"
     ]
    }
   ],
   "source": [
    "def bar(value):\n",
    "    value = 5\n",
    "    return\n",
    "\n",
    "value = 10\n",
    "\n",
    "bar(value)\n",
    "\n",
    "foo(value)"
   ]
  },
  {
   "cell_type": "code",
   "execution_count": 17,
   "metadata": {},
   "outputs": [
    {
     "name": "stdout",
     "output_type": "stream",
     "text": [
      "5\n"
     ]
    }
   ],
   "source": [
    "def bar2(value):\n",
    "    value = 5\n",
    "    return value\n",
    "\n",
    "value = 10\n",
    "\n",
    "value = bar2(value)\n",
    "\n",
    "foo(value)"
   ]
  },
  {
   "cell_type": "code",
   "execution_count": null,
   "metadata": {},
   "outputs": [],
   "source": []
  }
 ],
 "metadata": {
  "kernelspec": {
   "display_name": "Python 3",
   "language": "python",
   "name": "python3"
  },
  "language_info": {
   "codemirror_mode": {
    "name": "ipython",
    "version": 3
   },
   "file_extension": ".py",
   "mimetype": "text/x-python",
   "name": "python",
   "nbconvert_exporter": "python",
   "pygments_lexer": "ipython3",
   "version": "3.6.8"
  }
 },
 "nbformat": 4,
 "nbformat_minor": 4
}
